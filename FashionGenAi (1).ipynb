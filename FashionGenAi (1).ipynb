{
 "cells": [
  {
   "cell_type": "code",
   "execution_count": 1,
   "id": "21b11409",
   "metadata": {},
   "outputs": [
    {
     "name": "stdout",
     "output_type": "stream",
     "text": [
      "Requirement already satisfied: pip in c:\\ml\\anaconda3\\lib\\site-packages (24.0)\n",
      "Requirement already satisfied: setuptools in c:\\ml\\anaconda3\\lib\\site-packages (69.1.1)\n",
      "Note: you may need to restart the kernel to use updated packages.\n"
     ]
    }
   ],
   "source": [
    "pip install --upgrade pip setuptools\n"
   ]
  },
  {
   "cell_type": "code",
   "execution_count": 2,
   "id": "b2d44b45",
   "metadata": {},
   "outputs": [
    {
     "name": "stdout",
     "output_type": "stream",
     "text": [
      "Requirement already satisfied: tensorflow in c:\\ml\\anaconda3\\lib\\site-packages (2.15.0)\n",
      "Requirement already satisfied: matplotlib in c:\\ml\\anaconda3\\lib\\site-packages (3.7.1)\n",
      "Requirement already satisfied: tensorflow-datasets in c:\\ml\\anaconda3\\lib\\site-packages (4.9.4)\n",
      "Requirement already satisfied: ipywidgets in c:\\ml\\anaconda3\\lib\\site-packages (8.0.4)\n",
      "Requirement already satisfied: tensorflow-intel==2.15.0 in c:\\ml\\anaconda3\\lib\\site-packages (from tensorflow) (2.15.0)\n",
      "Requirement already satisfied: absl-py>=1.0.0 in c:\\ml\\anaconda3\\lib\\site-packages (from tensorflow-intel==2.15.0->tensorflow) (1.4.0)\n",
      "Requirement already satisfied: astunparse>=1.6.0 in c:\\ml\\anaconda3\\lib\\site-packages (from tensorflow-intel==2.15.0->tensorflow) (1.6.3)\n",
      "Requirement already satisfied: flatbuffers>=23.5.26 in c:\\ml\\anaconda3\\lib\\site-packages (from tensorflow-intel==2.15.0->tensorflow) (23.5.26)\n",
      "Requirement already satisfied: gast!=0.5.0,!=0.5.1,!=0.5.2,>=0.2.1 in c:\\ml\\anaconda3\\lib\\site-packages (from tensorflow-intel==2.15.0->tensorflow) (0.5.4)\n",
      "Requirement already satisfied: google-pasta>=0.1.1 in c:\\ml\\anaconda3\\lib\\site-packages (from tensorflow-intel==2.15.0->tensorflow) (0.2.0)\n",
      "Requirement already satisfied: h5py>=2.9.0 in c:\\ml\\anaconda3\\lib\\site-packages (from tensorflow-intel==2.15.0->tensorflow) (3.7.0)\n",
      "Requirement already satisfied: libclang>=13.0.0 in c:\\ml\\anaconda3\\lib\\site-packages (from tensorflow-intel==2.15.0->tensorflow) (16.0.6)\n",
      "Requirement already satisfied: ml-dtypes~=0.2.0 in c:\\ml\\anaconda3\\lib\\site-packages (from tensorflow-intel==2.15.0->tensorflow) (0.2.0)\n",
      "Requirement already satisfied: numpy<2.0.0,>=1.23.5 in c:\\ml\\anaconda3\\lib\\site-packages (from tensorflow-intel==2.15.0->tensorflow) (1.24.3)\n",
      "Requirement already satisfied: opt-einsum>=2.3.2 in c:\\ml\\anaconda3\\lib\\site-packages (from tensorflow-intel==2.15.0->tensorflow) (3.3.0)\n",
      "Requirement already satisfied: packaging in c:\\ml\\anaconda3\\lib\\site-packages (from tensorflow-intel==2.15.0->tensorflow) (23.0)\n",
      "Requirement already satisfied: protobuf!=4.21.0,!=4.21.1,!=4.21.2,!=4.21.3,!=4.21.4,!=4.21.5,<5.0.0dev,>=3.20.3 in c:\\ml\\anaconda3\\lib\\site-packages (from tensorflow-intel==2.15.0->tensorflow) (3.20.3)\n",
      "Requirement already satisfied: setuptools in c:\\ml\\anaconda3\\lib\\site-packages (from tensorflow-intel==2.15.0->tensorflow) (69.1.1)\n",
      "Requirement already satisfied: six>=1.12.0 in c:\\ml\\anaconda3\\lib\\site-packages (from tensorflow-intel==2.15.0->tensorflow) (1.16.0)\n",
      "Requirement already satisfied: termcolor>=1.1.0 in c:\\ml\\anaconda3\\lib\\site-packages (from tensorflow-intel==2.15.0->tensorflow) (2.4.0)\n",
      "Requirement already satisfied: typing-extensions>=3.6.6 in c:\\ml\\anaconda3\\lib\\site-packages (from tensorflow-intel==2.15.0->tensorflow) (4.7.1)\n",
      "Requirement already satisfied: wrapt<1.15,>=1.11.0 in c:\\ml\\anaconda3\\lib\\site-packages (from tensorflow-intel==2.15.0->tensorflow) (1.14.1)\n",
      "Requirement already satisfied: tensorflow-io-gcs-filesystem>=0.23.1 in c:\\ml\\anaconda3\\lib\\site-packages (from tensorflow-intel==2.15.0->tensorflow) (0.31.0)\n",
      "Requirement already satisfied: grpcio<2.0,>=1.24.3 in c:\\ml\\anaconda3\\lib\\site-packages (from tensorflow-intel==2.15.0->tensorflow) (1.58.0)\n",
      "Requirement already satisfied: tensorboard<2.16,>=2.15 in c:\\ml\\anaconda3\\lib\\site-packages (from tensorflow-intel==2.15.0->tensorflow) (2.15.2)\n",
      "Requirement already satisfied: tensorflow-estimator<2.16,>=2.15.0 in c:\\ml\\anaconda3\\lib\\site-packages (from tensorflow-intel==2.15.0->tensorflow) (2.15.0)\n",
      "Requirement already satisfied: keras<2.16,>=2.15.0 in c:\\ml\\anaconda3\\lib\\site-packages (from tensorflow-intel==2.15.0->tensorflow) (2.15.0)\n",
      "Requirement already satisfied: contourpy>=1.0.1 in c:\\ml\\anaconda3\\lib\\site-packages (from matplotlib) (1.0.5)\n",
      "Requirement already satisfied: cycler>=0.10 in c:\\ml\\anaconda3\\lib\\site-packages (from matplotlib) (0.11.0)\n",
      "Requirement already satisfied: fonttools>=4.22.0 in c:\\ml\\anaconda3\\lib\\site-packages (from matplotlib) (4.25.0)\n",
      "Requirement already satisfied: kiwisolver>=1.0.1 in c:\\ml\\anaconda3\\lib\\site-packages (from matplotlib) (1.4.4)\n",
      "Requirement already satisfied: pillow>=6.2.0 in c:\\ml\\anaconda3\\lib\\site-packages (from matplotlib) (9.4.0)\n",
      "Requirement already satisfied: pyparsing>=2.3.1 in c:\\ml\\anaconda3\\lib\\site-packages (from matplotlib) (3.0.9)\n",
      "Requirement already satisfied: python-dateutil>=2.7 in c:\\ml\\anaconda3\\lib\\site-packages (from matplotlib) (2.8.2)\n",
      "Requirement already satisfied: click in c:\\ml\\anaconda3\\lib\\site-packages (from tensorflow-datasets) (8.0.4)\n",
      "Requirement already satisfied: dm-tree in c:\\ml\\anaconda3\\lib\\site-packages (from tensorflow-datasets) (0.1.8)\n",
      "Requirement already satisfied: etils>=0.9.0 in c:\\ml\\anaconda3\\lib\\site-packages (from etils[enp,epath,etree]>=0.9.0->tensorflow-datasets) (1.7.0)\n",
      "Requirement already satisfied: promise in c:\\ml\\anaconda3\\lib\\site-packages (from tensorflow-datasets) (2.3)\n",
      "Requirement already satisfied: psutil in c:\\ml\\anaconda3\\lib\\site-packages (from tensorflow-datasets) (5.9.0)\n",
      "Requirement already satisfied: requests>=2.19.0 in c:\\ml\\anaconda3\\lib\\site-packages (from tensorflow-datasets) (2.31.0)\n",
      "Requirement already satisfied: tensorflow-metadata in c:\\ml\\anaconda3\\lib\\site-packages (from tensorflow-datasets) (1.14.0)\n",
      "Requirement already satisfied: toml in c:\\ml\\anaconda3\\lib\\site-packages (from tensorflow-datasets) (0.10.2)\n",
      "Requirement already satisfied: tqdm in c:\\ml\\anaconda3\\lib\\site-packages (from tensorflow-datasets) (4.66.1)\n",
      "Requirement already satisfied: ipykernel>=4.5.1 in c:\\ml\\anaconda3\\lib\\site-packages (from ipywidgets) (6.19.2)\n",
      "Requirement already satisfied: ipython>=6.1.0 in c:\\ml\\anaconda3\\lib\\site-packages (from ipywidgets) (8.12.0)\n",
      "Requirement already satisfied: traitlets>=4.3.1 in c:\\ml\\anaconda3\\lib\\site-packages (from ipywidgets) (5.7.1)\n",
      "Requirement already satisfied: widgetsnbextension~=4.0 in c:\\ml\\anaconda3\\lib\\site-packages (from ipywidgets) (4.0.5)\n",
      "Requirement already satisfied: jupyterlab-widgets~=3.0 in c:\\ml\\anaconda3\\lib\\site-packages (from ipywidgets) (3.0.5)\n",
      "Requirement already satisfied: fsspec in c:\\ml\\anaconda3\\lib\\site-packages (from etils[enp,epath,etree]>=0.9.0->tensorflow-datasets) (2023.3.0)\n",
      "Requirement already satisfied: importlib_resources in c:\\ml\\anaconda3\\lib\\site-packages (from etils[enp,epath,etree]>=0.9.0->tensorflow-datasets) (6.1.2)\n",
      "Requirement already satisfied: zipp in c:\\ml\\anaconda3\\lib\\site-packages (from etils[enp,epath,etree]>=0.9.0->tensorflow-datasets) (3.11.0)\n",
      "Requirement already satisfied: comm>=0.1.1 in c:\\ml\\anaconda3\\lib\\site-packages (from ipykernel>=4.5.1->ipywidgets) (0.1.2)\n",
      "Requirement already satisfied: debugpy>=1.0 in c:\\ml\\anaconda3\\lib\\site-packages (from ipykernel>=4.5.1->ipywidgets) (1.6.7)\n",
      "Requirement already satisfied: jupyter-client>=6.1.12 in c:\\ml\\anaconda3\\lib\\site-packages (from ipykernel>=4.5.1->ipywidgets) (7.4.9)\n",
      "Requirement already satisfied: matplotlib-inline>=0.1 in c:\\ml\\anaconda3\\lib\\site-packages (from ipykernel>=4.5.1->ipywidgets) (0.1.6)\n",
      "Requirement already satisfied: nest-asyncio in c:\\ml\\anaconda3\\lib\\site-packages (from ipykernel>=4.5.1->ipywidgets) (1.5.6)\n",
      "Requirement already satisfied: pyzmq>=17 in c:\\ml\\anaconda3\\lib\\site-packages (from ipykernel>=4.5.1->ipywidgets) (23.2.0)\n",
      "Requirement already satisfied: tornado>=6.1 in c:\\ml\\anaconda3\\lib\\site-packages (from ipykernel>=4.5.1->ipywidgets) (6.3.2)\n",
      "Requirement already satisfied: backcall in c:\\ml\\anaconda3\\lib\\site-packages (from ipython>=6.1.0->ipywidgets) (0.2.0)\n",
      "Requirement already satisfied: decorator in c:\\ml\\anaconda3\\lib\\site-packages (from ipython>=6.1.0->ipywidgets) (5.1.1)\n",
      "Requirement already satisfied: jedi>=0.16 in c:\\ml\\anaconda3\\lib\\site-packages (from ipython>=6.1.0->ipywidgets) (0.18.1)\n",
      "Requirement already satisfied: pickleshare in c:\\ml\\anaconda3\\lib\\site-packages (from ipython>=6.1.0->ipywidgets) (0.7.5)\n",
      "Requirement already satisfied: prompt-toolkit!=3.0.37,<3.1.0,>=3.0.30 in c:\\ml\\anaconda3\\lib\\site-packages (from ipython>=6.1.0->ipywidgets) (3.0.36)\n",
      "Requirement already satisfied: pygments>=2.4.0 in c:\\ml\\anaconda3\\lib\\site-packages (from ipython>=6.1.0->ipywidgets) (2.15.1)\n",
      "Requirement already satisfied: stack-data in c:\\ml\\anaconda3\\lib\\site-packages (from ipython>=6.1.0->ipywidgets) (0.2.0)\n",
      "Requirement already satisfied: colorama in c:\\ml\\anaconda3\\lib\\site-packages (from ipython>=6.1.0->ipywidgets) (0.4.6)\n",
      "Requirement already satisfied: charset-normalizer<4,>=2 in c:\\ml\\anaconda3\\lib\\site-packages (from requests>=2.19.0->tensorflow-datasets) (2.0.4)\n",
      "Requirement already satisfied: idna<4,>=2.5 in c:\\ml\\anaconda3\\lib\\site-packages (from requests>=2.19.0->tensorflow-datasets) (3.4)\n",
      "Requirement already satisfied: urllib3<3,>=1.21.1 in c:\\ml\\anaconda3\\lib\\site-packages (from requests>=2.19.0->tensorflow-datasets) (1.26.16)\n",
      "Requirement already satisfied: certifi>=2017.4.17 in c:\\ml\\anaconda3\\lib\\site-packages (from requests>=2.19.0->tensorflow-datasets) (2023.7.22)\n",
      "Requirement already satisfied: googleapis-common-protos<2,>=1.52.0 in c:\\ml\\anaconda3\\lib\\site-packages (from tensorflow-metadata->tensorflow-datasets) (1.62.0)\n",
      "Requirement already satisfied: wheel<1.0,>=0.23.0 in c:\\ml\\anaconda3\\lib\\site-packages (from astunparse>=1.6.0->tensorflow-intel==2.15.0->tensorflow) (0.38.4)\n",
      "Requirement already satisfied: parso<0.9.0,>=0.8.0 in c:\\ml\\anaconda3\\lib\\site-packages (from jedi>=0.16->ipython>=6.1.0->ipywidgets) (0.8.3)\n",
      "Requirement already satisfied: entrypoints in c:\\ml\\anaconda3\\lib\\site-packages (from jupyter-client>=6.1.12->ipykernel>=4.5.1->ipywidgets) (0.4)\n",
      "Requirement already satisfied: jupyter-core>=4.9.2 in c:\\ml\\anaconda3\\lib\\site-packages (from jupyter-client>=6.1.12->ipykernel>=4.5.1->ipywidgets) (5.3.0)\n",
      "Requirement already satisfied: wcwidth in c:\\ml\\anaconda3\\lib\\site-packages (from prompt-toolkit!=3.0.37,<3.1.0,>=3.0.30->ipython>=6.1.0->ipywidgets) (0.2.5)\n",
      "Requirement already satisfied: google-auth<3,>=1.6.3 in c:\\ml\\anaconda3\\lib\\site-packages (from tensorboard<2.16,>=2.15->tensorflow-intel==2.15.0->tensorflow) (2.28.1)\n",
      "Requirement already satisfied: google-auth-oauthlib<2,>=0.5 in c:\\ml\\anaconda3\\lib\\site-packages (from tensorboard<2.16,>=2.15->tensorflow-intel==2.15.0->tensorflow) (1.2.0)\n",
      "Requirement already satisfied: markdown>=2.6.8 in c:\\ml\\anaconda3\\lib\\site-packages (from tensorboard<2.16,>=2.15->tensorflow-intel==2.15.0->tensorflow) (3.4.1)\n",
      "Requirement already satisfied: tensorboard-data-server<0.8.0,>=0.7.0 in c:\\ml\\anaconda3\\lib\\site-packages (from tensorboard<2.16,>=2.15->tensorflow-intel==2.15.0->tensorflow) (0.7.2)\n",
      "Requirement already satisfied: werkzeug>=1.0.1 in c:\\ml\\anaconda3\\lib\\site-packages (from tensorboard<2.16,>=2.15->tensorflow-intel==2.15.0->tensorflow) (2.2.3)\n",
      "Requirement already satisfied: executing in c:\\ml\\anaconda3\\lib\\site-packages (from stack-data->ipython>=6.1.0->ipywidgets) (0.8.3)\n",
      "Requirement already satisfied: asttokens in c:\\ml\\anaconda3\\lib\\site-packages (from stack-data->ipython>=6.1.0->ipywidgets) (2.0.5)\n",
      "Requirement already satisfied: pure-eval in c:\\ml\\anaconda3\\lib\\site-packages (from stack-data->ipython>=6.1.0->ipywidgets) (0.2.2)\n",
      "Requirement already satisfied: cachetools<6.0,>=2.0.0 in c:\\ml\\anaconda3\\lib\\site-packages (from google-auth<3,>=1.6.3->tensorboard<2.16,>=2.15->tensorflow-intel==2.15.0->tensorflow) (5.3.2)\n",
      "Requirement already satisfied: pyasn1-modules>=0.2.1 in c:\\ml\\anaconda3\\lib\\site-packages (from google-auth<3,>=1.6.3->tensorboard<2.16,>=2.15->tensorflow-intel==2.15.0->tensorflow) (0.2.8)\n",
      "Requirement already satisfied: rsa<5,>=3.1.4 in c:\\ml\\anaconda3\\lib\\site-packages (from google-auth<3,>=1.6.3->tensorboard<2.16,>=2.15->tensorflow-intel==2.15.0->tensorflow) (4.9)\n",
      "Requirement already satisfied: requests-oauthlib>=0.7.0 in c:\\ml\\anaconda3\\lib\\site-packages (from google-auth-oauthlib<2,>=0.5->tensorboard<2.16,>=2.15->tensorflow-intel==2.15.0->tensorflow) (1.3.1)\n",
      "Requirement already satisfied: platformdirs>=2.5 in c:\\ml\\anaconda3\\lib\\site-packages (from jupyter-core>=4.9.2->jupyter-client>=6.1.12->ipykernel>=4.5.1->ipywidgets) (2.5.2)\n",
      "Requirement already satisfied: pywin32>=300 in c:\\ml\\anaconda3\\lib\\site-packages (from jupyter-core>=4.9.2->jupyter-client>=6.1.12->ipykernel>=4.5.1->ipywidgets) (305.1)\n",
      "Requirement already satisfied: MarkupSafe>=2.1.1 in c:\\ml\\anaconda3\\lib\\site-packages (from werkzeug>=1.0.1->tensorboard<2.16,>=2.15->tensorflow-intel==2.15.0->tensorflow) (2.1.1)\n",
      "Requirement already satisfied: pyasn1<0.5.0,>=0.4.6 in c:\\ml\\anaconda3\\lib\\site-packages (from pyasn1-modules>=0.2.1->google-auth<3,>=1.6.3->tensorboard<2.16,>=2.15->tensorflow-intel==2.15.0->tensorflow) (0.4.8)\n",
      "Requirement already satisfied: oauthlib>=3.0.0 in c:\\ml\\anaconda3\\lib\\site-packages (from requests-oauthlib>=0.7.0->google-auth-oauthlib<2,>=0.5->tensorboard<2.16,>=2.15->tensorflow-intel==2.15.0->tensorflow) (3.2.2)\n"
     ]
    }
   ],
   "source": [
    "!pip install tensorflow matplotlib tensorflow-datasets ipywidgets\n"
   ]
  },
  {
   "cell_type": "code",
   "execution_count": 1,
   "id": "c7b2e71f",
   "metadata": {},
   "outputs": [
    {
     "name": "stdout",
     "output_type": "stream",
     "text": [
      "WARNING:tensorflow:From C:\\ML\\Anaconda3\\Lib\\site-packages\\keras\\src\\losses.py:2976: The name tf.losses.sparse_softmax_cross_entropy is deprecated. Please use tf.compat.v1.losses.sparse_softmax_cross_entropy instead.\n",
      "\n"
     ]
    }
   ],
   "source": [
    "import tensorflow as tf\n",
    "gpus = tf.config.experimental.list_physical_devices('GPU')\n",
    "for gpu in gpus: \n",
    "    tf.config.experimental.set_memory_growth(gpu, True)"
   ]
  },
  {
   "cell_type": "code",
   "execution_count": 5,
   "id": "3a445ebc",
   "metadata": {},
   "outputs": [
    {
     "data": {
      "text/plain": [
       "[]"
      ]
     },
     "execution_count": 5,
     "metadata": {},
     "output_type": "execute_result"
    }
   ],
   "source": [
    "gpus"
   ]
  },
  {
   "cell_type": "code",
   "execution_count": 6,
   "id": "b64d8254",
   "metadata": {},
   "outputs": [],
   "source": [
    "# Brining in tensorflow datasets for fashion mnist \n",
    "import tensorflow_datasets as tfds\n",
    "# Bringing in matplotlib for viz stuff\n",
    "from matplotlib import pyplot as plt"
   ]
  },
  {
   "cell_type": "code",
   "execution_count": 7,
   "id": "15d6c60a",
   "metadata": {},
   "outputs": [
    {
     "name": "stdout",
     "output_type": "stream",
     "text": [
      "\u001b[1mDownloading and preparing dataset Unknown size (download: Unknown size, generated: Unknown size, total: Unknown size) to C:\\Users\\Priyanshu kumar\\tensorflow_datasets\\fashion_mnist\\3.0.1...\u001b[0m\n"
     ]
    },
    {
     "data": {
      "application/vnd.jupyter.widget-view+json": {
       "model_id": "692a29832c8545e2904ee9a309b97109",
       "version_major": 2,
       "version_minor": 0
      },
      "text/plain": [
       "Dl Completed...: 0 url [00:00, ? url/s]"
      ]
     },
     "metadata": {},
     "output_type": "display_data"
    },
    {
     "data": {
      "application/vnd.jupyter.widget-view+json": {
       "model_id": "295b51e1f26848ca88cf73ab39918af1",
       "version_major": 2,
       "version_minor": 0
      },
      "text/plain": [
       "Dl Size...: 0 MiB [00:00, ? MiB/s]"
      ]
     },
     "metadata": {},
     "output_type": "display_data"
    },
    {
     "data": {
      "application/vnd.jupyter.widget-view+json": {
       "model_id": "9d17e789ed054837880c92a697999135",
       "version_major": 2,
       "version_minor": 0
      },
      "text/plain": [
       "Extraction completed...: 0 file [00:00, ? file/s]"
      ]
     },
     "metadata": {},
     "output_type": "display_data"
    },
    {
     "data": {
      "application/vnd.jupyter.widget-view+json": {
       "model_id": "",
       "version_major": 2,
       "version_minor": 0
      },
      "text/plain": [
       "Generating splits...:   0%|          | 0/2 [00:00<?, ? splits/s]"
      ]
     },
     "metadata": {},
     "output_type": "display_data"
    },
    {
     "data": {
      "application/vnd.jupyter.widget-view+json": {
       "model_id": "",
       "version_major": 2,
       "version_minor": 0
      },
      "text/plain": [
       "Generating train examples...: 0 examples [00:00, ? examples/s]"
      ]
     },
     "metadata": {},
     "output_type": "display_data"
    },
    {
     "data": {
      "application/vnd.jupyter.widget-view+json": {
       "model_id": "",
       "version_major": 2,
       "version_minor": 0
      },
      "text/plain": [
       "Shuffling C:\\Users\\Priyanshu kumar\\tensorflow_datasets\\fashion_mnist\\3.0.1.incomplete18K6GN\\fashion_mnist-trai…"
      ]
     },
     "metadata": {},
     "output_type": "display_data"
    },
    {
     "data": {
      "application/vnd.jupyter.widget-view+json": {
       "model_id": "",
       "version_major": 2,
       "version_minor": 0
      },
      "text/plain": [
       "Generating test examples...: 0 examples [00:00, ? examples/s]"
      ]
     },
     "metadata": {},
     "output_type": "display_data"
    },
    {
     "data": {
      "application/vnd.jupyter.widget-view+json": {
       "model_id": "",
       "version_major": 2,
       "version_minor": 0
      },
      "text/plain": [
       "Shuffling C:\\Users\\Priyanshu kumar\\tensorflow_datasets\\fashion_mnist\\3.0.1.incomplete18K6GN\\fashion_mnist-test…"
      ]
     },
     "metadata": {},
     "output_type": "display_data"
    },
    {
     "name": "stdout",
     "output_type": "stream",
     "text": [
      "\u001b[1mDataset fashion_mnist downloaded and prepared to C:\\Users\\Priyanshu kumar\\tensorflow_datasets\\fashion_mnist\\3.0.1. Subsequent calls will reuse this data.\u001b[0m\n"
     ]
    }
   ],
   "source": [
    "# Use the tensorflow datasets api to bring in the data source\n",
    "ds = tfds.load('fashion_mnist', split='train')"
   ]
  },
  {
   "cell_type": "code",
   "execution_count": 11,
   "id": "22b20201",
   "metadata": {},
   "outputs": [
    {
     "data": {
      "text/plain": [
       "2"
      ]
     },
     "execution_count": 11,
     "metadata": {},
     "output_type": "execute_result"
    }
   ],
   "source": [
    "ds.as_numpy_iterator().next()['label']"
   ]
  },
  {
   "cell_type": "markdown",
   "id": "5604391d",
   "metadata": {},
   "source": [
    "# Viaualize data and Build pipeline"
   ]
  },
  {
   "cell_type": "code",
   "execution_count": 12,
   "id": "78e37003",
   "metadata": {},
   "outputs": [],
   "source": [
    "# Do some data transformation\n",
    "import numpy as np"
   ]
  },
  {
   "cell_type": "code",
   "execution_count": 13,
   "id": "744c9819",
   "metadata": {},
   "outputs": [],
   "source": [
    "# Setup connection aka iterator\n",
    "dataiterator = ds.as_numpy_iterator()"
   ]
  },
  {
   "cell_type": "code",
   "execution_count": 17,
   "id": "9bed8389",
   "metadata": {},
   "outputs": [
    {
     "data": {
      "text/plain": [
       "array([[[  0],\n",
       "        [  0],\n",
       "        [  0],\n",
       "        [  0],\n",
       "        [  0],\n",
       "        [  0],\n",
       "        [  0],\n",
       "        [  0],\n",
       "        [  0],\n",
       "        [  0],\n",
       "        [  2],\n",
       "        [127],\n",
       "        [106],\n",
       "        [136],\n",
       "        [102],\n",
       "        [147],\n",
       "        [136],\n",
       "        [  0],\n",
       "        [  0],\n",
       "        [  0],\n",
       "        [  0],\n",
       "        [  0],\n",
       "        [  0],\n",
       "        [  0],\n",
       "        [  0],\n",
       "        [  0],\n",
       "        [  0],\n",
       "        [  0]],\n",
       "\n",
       "       [[  0],\n",
       "        [  0],\n",
       "        [  0],\n",
       "        [  0],\n",
       "        [  0],\n",
       "        [  0],\n",
       "        [  0],\n",
       "        [  0],\n",
       "        [  0],\n",
       "        [ 64],\n",
       "        [254],\n",
       "        [255],\n",
       "        [254],\n",
       "        [255],\n",
       "        [255],\n",
       "        [255],\n",
       "        [247],\n",
       "        [161],\n",
       "        [122],\n",
       "        [  0],\n",
       "        [  0],\n",
       "        [  0],\n",
       "        [  0],\n",
       "        [  0],\n",
       "        [  0],\n",
       "        [  0],\n",
       "        [  0],\n",
       "        [  0]],\n",
       "\n",
       "       [[  0],\n",
       "        [  0],\n",
       "        [  0],\n",
       "        [  0],\n",
       "        [  0],\n",
       "        [  0],\n",
       "        [  0],\n",
       "        [  0],\n",
       "        [ 97],\n",
       "        [255],\n",
       "        [241],\n",
       "        [232],\n",
       "        [248],\n",
       "        [242],\n",
       "        [243],\n",
       "        [248],\n",
       "        [234],\n",
       "        [251],\n",
       "        [255],\n",
       "        [ 86],\n",
       "        [  0],\n",
       "        [  0],\n",
       "        [  0],\n",
       "        [  0],\n",
       "        [  0],\n",
       "        [  0],\n",
       "        [  0],\n",
       "        [  0]],\n",
       "\n",
       "       [[  0],\n",
       "        [  0],\n",
       "        [  0],\n",
       "        [  0],\n",
       "        [  0],\n",
       "        [  0],\n",
       "        [  0],\n",
       "        [128],\n",
       "        [229],\n",
       "        [235],\n",
       "        [234],\n",
       "        [226],\n",
       "        [245],\n",
       "        [248],\n",
       "        [248],\n",
       "        [246],\n",
       "        [219],\n",
       "        [223],\n",
       "        [230],\n",
       "        [222],\n",
       "        [139],\n",
       "        [  0],\n",
       "        [  0],\n",
       "        [  0],\n",
       "        [  0],\n",
       "        [  0],\n",
       "        [  0],\n",
       "        [  0]],\n",
       "\n",
       "       [[  0],\n",
       "        [  0],\n",
       "        [  0],\n",
       "        [  0],\n",
       "        [  0],\n",
       "        [  0],\n",
       "        [173],\n",
       "        [255],\n",
       "        [238],\n",
       "        [229],\n",
       "        [227],\n",
       "        [219],\n",
       "        [226],\n",
       "        [253],\n",
       "        [254],\n",
       "        [219],\n",
       "        [224],\n",
       "        [230],\n",
       "        [224],\n",
       "        [240],\n",
       "        [255],\n",
       "        [171],\n",
       "        [  0],\n",
       "        [  0],\n",
       "        [  0],\n",
       "        [  0],\n",
       "        [  0],\n",
       "        [  0]],\n",
       "\n",
       "       [[  0],\n",
       "        [  0],\n",
       "        [  0],\n",
       "        [  0],\n",
       "        [  0],\n",
       "        [ 54],\n",
       "        [248],\n",
       "        [226],\n",
       "        [233],\n",
       "        [253],\n",
       "        [254],\n",
       "        [250],\n",
       "        [237],\n",
       "        [241],\n",
       "        [233],\n",
       "        [229],\n",
       "        [243],\n",
       "        [249],\n",
       "        [245],\n",
       "        [234],\n",
       "        [226],\n",
       "        [248],\n",
       "        [ 52],\n",
       "        [  0],\n",
       "        [  0],\n",
       "        [  0],\n",
       "        [  0],\n",
       "        [  0]],\n",
       "\n",
       "       [[  0],\n",
       "        [  0],\n",
       "        [  0],\n",
       "        [  0],\n",
       "        [  0],\n",
       "        [147],\n",
       "        [250],\n",
       "        [228],\n",
       "        [233],\n",
       "        [234],\n",
       "        [238],\n",
       "        [245],\n",
       "        [239],\n",
       "        [237],\n",
       "        [242],\n",
       "        [244],\n",
       "        [243],\n",
       "        [239],\n",
       "        [229],\n",
       "        [231],\n",
       "        [229],\n",
       "        [252],\n",
       "        [150],\n",
       "        [  0],\n",
       "        [  0],\n",
       "        [  0],\n",
       "        [  0],\n",
       "        [  0]],\n",
       "\n",
       "       [[  0],\n",
       "        [  0],\n",
       "        [  0],\n",
       "        [  0],\n",
       "        [  0],\n",
       "        [204],\n",
       "        [248],\n",
       "        [232],\n",
       "        [232],\n",
       "        [232],\n",
       "        [232],\n",
       "        [230],\n",
       "        [232],\n",
       "        [237],\n",
       "        [233],\n",
       "        [230],\n",
       "        [230],\n",
       "        [229],\n",
       "        [228],\n",
       "        [232],\n",
       "        [231],\n",
       "        [248],\n",
       "        [205],\n",
       "        [  0],\n",
       "        [  0],\n",
       "        [  0],\n",
       "        [  0],\n",
       "        [  0]],\n",
       "\n",
       "       [[  0],\n",
       "        [  0],\n",
       "        [  0],\n",
       "        [  0],\n",
       "        [  0],\n",
       "        [231],\n",
       "        [245],\n",
       "        [237],\n",
       "        [233],\n",
       "        [232],\n",
       "        [233],\n",
       "        [233],\n",
       "        [233],\n",
       "        [233],\n",
       "        [232],\n",
       "        [233],\n",
       "        [231],\n",
       "        [231],\n",
       "        [232],\n",
       "        [234],\n",
       "        [240],\n",
       "        [245],\n",
       "        [227],\n",
       "        [  0],\n",
       "        [  0],\n",
       "        [  0],\n",
       "        [  0],\n",
       "        [  0]],\n",
       "\n",
       "       [[  0],\n",
       "        [  0],\n",
       "        [  0],\n",
       "        [  0],\n",
       "        [  0],\n",
       "        [249],\n",
       "        [241],\n",
       "        [242],\n",
       "        [243],\n",
       "        [230],\n",
       "        [232],\n",
       "        [233],\n",
       "        [234],\n",
       "        [234],\n",
       "        [233],\n",
       "        [234],\n",
       "        [233],\n",
       "        [231],\n",
       "        [229],\n",
       "        [246],\n",
       "        [243],\n",
       "        [240],\n",
       "        [250],\n",
       "        [  0],\n",
       "        [  0],\n",
       "        [  0],\n",
       "        [  0],\n",
       "        [  0]],\n",
       "\n",
       "       [[  0],\n",
       "        [  0],\n",
       "        [  0],\n",
       "        [  0],\n",
       "        [  0],\n",
       "        [255],\n",
       "        [240],\n",
       "        [246],\n",
       "        [242],\n",
       "        [233],\n",
       "        [233],\n",
       "        [234],\n",
       "        [235],\n",
       "        [234],\n",
       "        [233],\n",
       "        [233],\n",
       "        [233],\n",
       "        [232],\n",
       "        [232],\n",
       "        [246],\n",
       "        [243],\n",
       "        [239],\n",
       "        [255],\n",
       "        [  0],\n",
       "        [  0],\n",
       "        [  0],\n",
       "        [  0],\n",
       "        [  0]],\n",
       "\n",
       "       [[  0],\n",
       "        [  0],\n",
       "        [  0],\n",
       "        [  0],\n",
       "        [  0],\n",
       "        [255],\n",
       "        [239],\n",
       "        [247],\n",
       "        [238],\n",
       "        [231],\n",
       "        [234],\n",
       "        [235],\n",
       "        [236],\n",
       "        [234],\n",
       "        [232],\n",
       "        [233],\n",
       "        [234],\n",
       "        [235],\n",
       "        [231],\n",
       "        [242],\n",
       "        [248],\n",
       "        [241],\n",
       "        [255],\n",
       "        [  0],\n",
       "        [  0],\n",
       "        [  0],\n",
       "        [  0],\n",
       "        [  0]],\n",
       "\n",
       "       [[  0],\n",
       "        [  0],\n",
       "        [  0],\n",
       "        [  0],\n",
       "        [ 32],\n",
       "        [255],\n",
       "        [236],\n",
       "        [249],\n",
       "        [243],\n",
       "        [228],\n",
       "        [234],\n",
       "        [232],\n",
       "        [235],\n",
       "        [235],\n",
       "        [234],\n",
       "        [234],\n",
       "        [234],\n",
       "        [237],\n",
       "        [222],\n",
       "        [236],\n",
       "        [255],\n",
       "        [237],\n",
       "        [255],\n",
       "        [ 32],\n",
       "        [  0],\n",
       "        [  0],\n",
       "        [  0],\n",
       "        [  0]],\n",
       "\n",
       "       [[  0],\n",
       "        [  0],\n",
       "        [  0],\n",
       "        [  0],\n",
       "        [ 66],\n",
       "        [255],\n",
       "        [237],\n",
       "        [244],\n",
       "        [244],\n",
       "        [227],\n",
       "        [234],\n",
       "        [232],\n",
       "        [235],\n",
       "        [235],\n",
       "        [234],\n",
       "        [234],\n",
       "        [234],\n",
       "        [236],\n",
       "        [223],\n",
       "        [233],\n",
       "        [249],\n",
       "        [237],\n",
       "        [255],\n",
       "        [ 69],\n",
       "        [  0],\n",
       "        [  0],\n",
       "        [  0],\n",
       "        [  0]],\n",
       "\n",
       "       [[  0],\n",
       "        [  0],\n",
       "        [  0],\n",
       "        [  0],\n",
       "        [107],\n",
       "        [255],\n",
       "        [240],\n",
       "        [249],\n",
       "        [238],\n",
       "        [228],\n",
       "        [234],\n",
       "        [232],\n",
       "        [234],\n",
       "        [235],\n",
       "        [233],\n",
       "        [235],\n",
       "        [232],\n",
       "        [235],\n",
       "        [229],\n",
       "        [239],\n",
       "        [249],\n",
       "        [241],\n",
       "        [255],\n",
       "        [106],\n",
       "        [  0],\n",
       "        [  0],\n",
       "        [  0],\n",
       "        [  0]],\n",
       "\n",
       "       [[  0],\n",
       "        [  0],\n",
       "        [  0],\n",
       "        [  0],\n",
       "        [135],\n",
       "        [255],\n",
       "        [239],\n",
       "        [254],\n",
       "        [234],\n",
       "        [231],\n",
       "        [234],\n",
       "        [232],\n",
       "        [236],\n",
       "        [236],\n",
       "        [233],\n",
       "        [235],\n",
       "        [234],\n",
       "        [233],\n",
       "        [231],\n",
       "        [233],\n",
       "        [255],\n",
       "        [240],\n",
       "        [255],\n",
       "        [133],\n",
       "        [  0],\n",
       "        [  0],\n",
       "        [  0],\n",
       "        [  0]],\n",
       "\n",
       "       [[  0],\n",
       "        [  0],\n",
       "        [  0],\n",
       "        [  0],\n",
       "        [154],\n",
       "        [255],\n",
       "        [235],\n",
       "        [255],\n",
       "        [231],\n",
       "        [230],\n",
       "        [234],\n",
       "        [231],\n",
       "        [237],\n",
       "        [236],\n",
       "        [233],\n",
       "        [234],\n",
       "        [232],\n",
       "        [236],\n",
       "        [232],\n",
       "        [233],\n",
       "        [255],\n",
       "        [234],\n",
       "        [255],\n",
       "        [152],\n",
       "        [  0],\n",
       "        [  0],\n",
       "        [  0],\n",
       "        [  0]],\n",
       "\n",
       "       [[  0],\n",
       "        [  0],\n",
       "        [  0],\n",
       "        [  0],\n",
       "        [169],\n",
       "        [249],\n",
       "        [240],\n",
       "        [254],\n",
       "        [227],\n",
       "        [230],\n",
       "        [237],\n",
       "        [231],\n",
       "        [237],\n",
       "        [235],\n",
       "        [232],\n",
       "        [234],\n",
       "        [230],\n",
       "        [240],\n",
       "        [235],\n",
       "        [228],\n",
       "        [254],\n",
       "        [238],\n",
       "        [252],\n",
       "        [170],\n",
       "        [  0],\n",
       "        [  0],\n",
       "        [  0],\n",
       "        [  0]],\n",
       "\n",
       "       [[  0],\n",
       "        [  0],\n",
       "        [  0],\n",
       "        [  0],\n",
       "        [184],\n",
       "        [244],\n",
       "        [240],\n",
       "        [254],\n",
       "        [226],\n",
       "        [234],\n",
       "        [237],\n",
       "        [230],\n",
       "        [237],\n",
       "        [235],\n",
       "        [231],\n",
       "        [233],\n",
       "        [230],\n",
       "        [234],\n",
       "        [240],\n",
       "        [226],\n",
       "        [253],\n",
       "        [244],\n",
       "        [244],\n",
       "        [186],\n",
       "        [  0],\n",
       "        [  0],\n",
       "        [  0],\n",
       "        [  0]],\n",
       "\n",
       "       [[  0],\n",
       "        [  0],\n",
       "        [  0],\n",
       "        [  0],\n",
       "        [199],\n",
       "        [240],\n",
       "        [242],\n",
       "        [241],\n",
       "        [222],\n",
       "        [235],\n",
       "        [231],\n",
       "        [229],\n",
       "        [237],\n",
       "        [234],\n",
       "        [230],\n",
       "        [232],\n",
       "        [231],\n",
       "        [227],\n",
       "        [241],\n",
       "        [227],\n",
       "        [239],\n",
       "        [245],\n",
       "        [241],\n",
       "        [197],\n",
       "        [  0],\n",
       "        [  0],\n",
       "        [  0],\n",
       "        [  0]],\n",
       "\n",
       "       [[  0],\n",
       "        [  0],\n",
       "        [  0],\n",
       "        [  0],\n",
       "        [197],\n",
       "        [239],\n",
       "        [253],\n",
       "        [204],\n",
       "        [220],\n",
       "        [236],\n",
       "        [229],\n",
       "        [230],\n",
       "        [237],\n",
       "        [234],\n",
       "        [230],\n",
       "        [231],\n",
       "        [231],\n",
       "        [227],\n",
       "        [244],\n",
       "        [221],\n",
       "        [201],\n",
       "        [251],\n",
       "        [241],\n",
       "        [196],\n",
       "        [  0],\n",
       "        [  0],\n",
       "        [  0],\n",
       "        [  0]],\n",
       "\n",
       "       [[  0],\n",
       "        [  0],\n",
       "        [  0],\n",
       "        [  0],\n",
       "        [198],\n",
       "        [240],\n",
       "        [255],\n",
       "        [175],\n",
       "        [225],\n",
       "        [234],\n",
       "        [229],\n",
       "        [230],\n",
       "        [237],\n",
       "        [234],\n",
       "        [230],\n",
       "        [231],\n",
       "        [232],\n",
       "        [226],\n",
       "        [243],\n",
       "        [230],\n",
       "        [173],\n",
       "        [255],\n",
       "        [242],\n",
       "        [197],\n",
       "        [  0],\n",
       "        [  0],\n",
       "        [  0],\n",
       "        [  0]],\n",
       "\n",
       "       [[  0],\n",
       "        [  0],\n",
       "        [  0],\n",
       "        [  0],\n",
       "        [200],\n",
       "        [240],\n",
       "        [255],\n",
       "        [164],\n",
       "        [234],\n",
       "        [234],\n",
       "        [226],\n",
       "        [230],\n",
       "        [237],\n",
       "        [233],\n",
       "        [229],\n",
       "        [231],\n",
       "        [230],\n",
       "        [228],\n",
       "        [233],\n",
       "        [241],\n",
       "        [164],\n",
       "        [255],\n",
       "        [244],\n",
       "        [200],\n",
       "        [  0],\n",
       "        [  0],\n",
       "        [  0],\n",
       "        [  0]],\n",
       "\n",
       "       [[  0],\n",
       "        [  0],\n",
       "        [  0],\n",
       "        [  0],\n",
       "        [198],\n",
       "        [240],\n",
       "        [255],\n",
       "        [151],\n",
       "        [237],\n",
       "        [229],\n",
       "        [229],\n",
       "        [230],\n",
       "        [237],\n",
       "        [233],\n",
       "        [230],\n",
       "        [231],\n",
       "        [230],\n",
       "        [230],\n",
       "        [226],\n",
       "        [239],\n",
       "        [150],\n",
       "        [255],\n",
       "        [239],\n",
       "        [199],\n",
       "        [  0],\n",
       "        [  0],\n",
       "        [  0],\n",
       "        [  0]],\n",
       "\n",
       "       [[  0],\n",
       "        [  0],\n",
       "        [  0],\n",
       "        [  0],\n",
       "        [197],\n",
       "        [236],\n",
       "        [254],\n",
       "        [145],\n",
       "        [240],\n",
       "        [223],\n",
       "        [233],\n",
       "        [231],\n",
       "        [237],\n",
       "        [233],\n",
       "        [230],\n",
       "        [232],\n",
       "        [232],\n",
       "        [232],\n",
       "        [225],\n",
       "        [239],\n",
       "        [145],\n",
       "        [254],\n",
       "        [235],\n",
       "        [198],\n",
       "        [  0],\n",
       "        [  0],\n",
       "        [  0],\n",
       "        [  0]],\n",
       "\n",
       "       [[  0],\n",
       "        [  0],\n",
       "        [  0],\n",
       "        [  0],\n",
       "        [203],\n",
       "        [231],\n",
       "        [245],\n",
       "        [214],\n",
       "        [224],\n",
       "        [218],\n",
       "        [224],\n",
       "        [226],\n",
       "        [227],\n",
       "        [229],\n",
       "        [227],\n",
       "        [225],\n",
       "        [222],\n",
       "        [223],\n",
       "        [221],\n",
       "        [223],\n",
       "        [215],\n",
       "        [245],\n",
       "        [232],\n",
       "        [203],\n",
       "        [  0],\n",
       "        [  0],\n",
       "        [  0],\n",
       "        [  0]],\n",
       "\n",
       "       [[  0],\n",
       "        [  0],\n",
       "        [  0],\n",
       "        [  0],\n",
       "        [218],\n",
       "        [246],\n",
       "        [255],\n",
       "        [255],\n",
       "        [255],\n",
       "        [255],\n",
       "        [255],\n",
       "        [255],\n",
       "        [255],\n",
       "        [255],\n",
       "        [254],\n",
       "        [255],\n",
       "        [255],\n",
       "        [255],\n",
       "        [243],\n",
       "        [255],\n",
       "        [255],\n",
       "        [255],\n",
       "        [255],\n",
       "        [216],\n",
       "        [  0],\n",
       "        [  0],\n",
       "        [  0],\n",
       "        [  0]],\n",
       "\n",
       "       [[  0],\n",
       "        [  0],\n",
       "        [  0],\n",
       "        [  0],\n",
       "        [ 33],\n",
       "        [ 53],\n",
       "        [  0],\n",
       "        [  9],\n",
       "        [156],\n",
       "        [137],\n",
       "        [165],\n",
       "        [164],\n",
       "        [162],\n",
       "        [170],\n",
       "        [170],\n",
       "        [163],\n",
       "        [161],\n",
       "        [161],\n",
       "        [140],\n",
       "        [154],\n",
       "        [  6],\n",
       "        [  0],\n",
       "        [ 49],\n",
       "        [ 37],\n",
       "        [  0],\n",
       "        [  0],\n",
       "        [  0],\n",
       "        [  0]]], dtype=uint8)"
      ]
     },
     "execution_count": 17,
     "metadata": {},
     "output_type": "execute_result"
    }
   ],
   "source": [
    "# Getting data out of the pipeline\n",
    "dataiterator.next()['image']"
   ]
  },
  {
   "cell_type": "code",
   "execution_count": 21,
   "id": "45136e85",
   "metadata": {},
   "outputs": [
    {
     "data": {
      "text/plain": [
       "array([<Axes: title={'center': '0'}>, <Axes: title={'center': '7'}>,\n",
       "       <Axes: title={'center': '5'}>, <Axes: title={'center': '4'}>],\n",
       "      dtype=object)"
      ]
     },
     "execution_count": 21,
     "metadata": {},
     "output_type": "execute_result"
    }
   ],
   "source": [
    "ax"
   ]
  },
  {
   "cell_type": "code",
   "execution_count": 26,
   "id": "a45e764f",
   "metadata": {},
   "outputs": [
    {
     "data": {
      "image/png": "[encoded data removed]",
      "text/plain": [
       "<Figure size 1500x1500 with 4 Axes>"
      ]
     },
     "metadata": {},
     "output_type": "display_data"
    }
   ],
   "source": [
    "# Setup the subplot formatting \n",
    "fig, ax = plt.subplots(ncols=4, figsize=(15,15))\n",
    "# Loop four times and get images \n",
    "for idx in range(4): \n",
    "    # Grab an image and label\n",
    "    sample = dataiterator.next()\n",
    "    # Plot the image using a specific subplot \n",
    "    ax[idx].imshow(np.squeeze(sample['image']))\n",
    "    # Appending the image label as the plot title \n",
    "    ax[idx].title.set_text(sample['label'])"
   ]
  },
  {
   "cell_type": "code",
   "execution_count": 27,
   "id": "6742ac9a",
   "metadata": {},
   "outputs": [],
   "source": [
    "# Scale and return images only \n",
    "def scale_images(data): \n",
    "    image = data['image']\n",
    "    return image / 255"
   ]
  },
  {
   "cell_type": "code",
   "execution_count": 182,
   "id": "c6a9941d",
   "metadata": {},
   "outputs": [],
   "source": [
    "# Reload the dataset \n",
    "ds = tfds.load('fashion_mnist', split='train')\n",
    "# Running the dataset through the scale_images preprocessing step\n",
    "ds = ds.map(scale_images) \n",
    "# Cache the dataset for that batch \n",
    "ds = ds.cache()\n",
    "# Shuffle it up \n",
    "ds = ds.shuffle(60000)\n",
    "# Batch into 128 images per sample\n",
    "ds = ds.batch(128)\n",
    "# Reduces the likelihood of bottlenecking \n",
    "ds = ds.prefetch(64)"
   ]
  },
  {
   "cell_type": "code",
   "execution_count": 183,
   "id": "a050e162",
   "metadata": {},
   "outputs": [
    {
     "data": {
      "text/plain": [
       "(128, 28, 28, 1)"
      ]
     },
     "execution_count": 183,
     "metadata": {},
     "output_type": "execute_result"
    }
   ],
   "source": [
    "ds.as_numpy_iterator().next().shape"
   ]
  },
  {
   "cell_type": "markdown",
   "id": "5a8a1b56",
   "metadata": {},
   "source": [
    "# Build neural network"
   ]
  },
  {
   "cell_type": "markdown",
   "id": "14d1f0fe",
   "metadata": {},
   "source": [
    "## Import Modelling Components"
   ]
  },
  {
   "cell_type": "code",
   "execution_count": 184,
   "id": "bc832f33",
   "metadata": {},
   "outputs": [],
   "source": [
    "# Bring in the sequential api for the generator and discriminator\n",
    "from tensorflow.keras.models import Sequential\n",
    "# Bring in the layers for the neural network\n",
    "from tensorflow.keras.layers import Conv2D, Dense, Flatten, Reshape, LeakyReLU, Dropout, UpSampling2D"
   ]
  },
  {
   "cell_type": "markdown",
   "id": "ccaab257",
   "metadata": {},
   "source": [
    "# Build generator"
   ]
  },
  {
   "cell_type": "code",
   "execution_count": 185,
   "id": "e5c66a84",
   "metadata": {},
   "outputs": [],
   "source": [
    "def build_generator(): \n",
    "    model = Sequential()\n",
    "    \n",
    "    # Takes in random values and reshapes it to 7x7x128\n",
    "    # Beginnings of a generated image\n",
    "    model.add(Dense(7*7*128, input_dim=128))\n",
    "    model.add(LeakyReLU(0.2))\n",
    "    model.add(Reshape((7,7,128)))\n",
    "    \n",
    "    # Upsampling block 1 \n",
    "    model.add(UpSampling2D())\n",
    "    model.add(Conv2D(128, 5, padding='same'))\n",
    "    model.add(LeakyReLU(0.2))\n",
    "    \n",
    "    # Upsampling block 2 \n",
    "    model.add(UpSampling2D())\n",
    "    model.add(Conv2D(128, 5, padding='same'))\n",
    "    model.add(LeakyReLU(0.2))\n",
    "    \n",
    "    # Convolutional block 1\n",
    "    model.add(Conv2D(128, 4, padding='same'))\n",
    "    model.add(LeakyReLU(0.2))\n",
    "    \n",
    "    # Convolutional block 2\n",
    "    model.add(Conv2D(128, 4, padding='same'))\n",
    "    model.add(LeakyReLU(0.2))\n",
    "    \n",
    "    # Conv layer to get to one channel\n",
    "    model.add(Conv2D(1, 4, padding='same', activation='sigmoid'))\n",
    "    \n",
    "    return model"
   ]
  },
  {
   "cell_type": "code",
   "execution_count": 186,
   "id": "6a90ef7a",
   "metadata": {},
   "outputs": [],
   "source": [
    "generator = build_generator()"
   ]
  },
  {
   "cell_type": "code",
   "execution_count": 187,
   "id": "8fc89c97",
   "metadata": {},
   "outputs": [
    {
     "name": "stdout",
     "output_type": "stream",
     "text": [
      "Model: \"sequential_18\"\n",
      "_________________________________________________________________\n",
      " Layer (type)                Output Shape              Param #   \n",
      "=================================================================\n",
      " dense_18 (Dense)            (None, 6272)              809088    \n",
      "                                                                 \n",
      " leaky_re_lu_81 (LeakyReLU)  (None, 6272)              0         \n",
      "                                                                 \n",
      " reshape_9 (Reshape)         (None, 7, 7, 128)         0         \n",
      "                                                                 \n",
      " up_sampling2d_18 (UpSampli  (None, 14, 14, 128)       0         \n",
      " ng2D)                                                           \n",
      "                                                                 \n",
      " conv2d_81 (Conv2D)          (None, 14, 14, 128)       409728    \n",
      "                                                                 \n",
      " leaky_re_lu_82 (LeakyReLU)  (None, 14, 14, 128)       0         \n",
      "                                                                 \n",
      " up_sampling2d_19 (UpSampli  (None, 28, 28, 128)       0         \n",
      " ng2D)                                                           \n",
      "                                                                 \n",
      " conv2d_82 (Conv2D)          (None, 28, 28, 128)       409728    \n",
      "                                                                 \n",
      " leaky_re_lu_83 (LeakyReLU)  (None, 28, 28, 128)       0         \n",
      "                                                                 \n",
      " conv2d_83 (Conv2D)          (None, 28, 28, 128)       262272    \n",
      "                                                                 \n",
      " leaky_re_lu_84 (LeakyReLU)  (None, 28, 28, 128)       0         \n",
      "                                                                 \n",
      " conv2d_84 (Conv2D)          (None, 28, 28, 128)       262272    \n",
      "                                                                 \n",
      " leaky_re_lu_85 (LeakyReLU)  (None, 28, 28, 128)       0         \n",
      "                                                                 \n",
      " conv2d_85 (Conv2D)          (None, 28, 28, 1)         2049      \n",
      "                                                                 \n",
      "=================================================================\n",
      "Total params: 2155137 (8.22 MB)\n",
      "Trainable params: 2155137 (8.22 MB)\n",
      "Non-trainable params: 0 (0.00 Byte)\n",
      "_________________________________________________________________\n"
     ]
    }
   ],
   "source": [
    "generator.summary()\n"
   ]
  },
  {
   "cell_type": "code",
   "execution_count": 188,
   "id": "1255aad5",
   "metadata": {},
   "outputs": [
    {
     "data": {
      "text/plain": [
       "(4, 28, 28, 1)"
      ]
     },
     "execution_count": 188,
     "metadata": {},
     "output_type": "execute_result"
    }
   ],
   "source": [
    "img.shape"
   ]
  },
  {
   "cell_type": "code",
   "execution_count": 189,
   "id": "12b79eb8",
   "metadata": {},
   "outputs": [
    {
     "name": "stdout",
     "output_type": "stream",
     "text": [
      "WARNING:tensorflow:5 out of the last 11 calls to <function Model.make_predict_function.<locals>.predict_function at 0x000001C20C4EAFC0> triggered tf.function retracing. Tracing is expensive and the excessive number of tracings could be due to (1) creating @tf.function repeatedly in a loop, (2) passing tensors with different shapes, (3) passing Python objects instead of tensors. For (1), please define your @tf.function outside of the loop. For (2), @tf.function has reduce_retracing=True option that can avoid unnecessary retracing. For (3), please refer to https://www.tensorflow.org/guide/function#controlling_retracing and https://www.tensorflow.org/api_docs/python/tf/function for  more details.\n"
     ]
    },
    {
     "name": "stderr",
     "output_type": "stream",
     "text": [
      "WARNING:tensorflow:5 out of the last 11 calls to <function Model.make_predict_function.<locals>.predict_function at 0x000001C20C4EAFC0> triggered tf.function retracing. Tracing is expensive and the excessive number of tracings could be due to (1) creating @tf.function repeatedly in a loop, (2) passing tensors with different shapes, (3) passing Python objects instead of tensors. For (1), please define your @tf.function outside of the loop. For (2), @tf.function has reduce_retracing=True option that can avoid unnecessary retracing. For (3), please refer to https://www.tensorflow.org/guide/function#controlling_retracing and https://www.tensorflow.org/api_docs/python/tf/function for  more details.\n"
     ]
    },
    {
     "name": "stdout",
     "output_type": "stream",
     "text": [
      "1/1 [==============================] - 0s 155ms/step\n"
     ]
    }
   ],
   "source": [
    "img = generator.predict(np.random.randn(4,128,1))"
   ]
  },
  {
   "cell_type": "code",
   "execution_count": 190,
   "id": "4ad2392a",
   "metadata": {},
   "outputs": [
    {
     "data": {
      "text/plain": [
       "(4, 28, 28, 1)"
      ]
     },
     "execution_count": 190,
     "metadata": {},
     "output_type": "execute_result"
    }
   ],
   "source": [
    "img.shape"
   ]
  },
  {
   "cell_type": "code",
   "execution_count": 106,
   "id": "c9231a83",
   "metadata": {},
   "outputs": [
    {
     "name": "stdout",
     "output_type": "stream",
     "text": [
      "1/1 [==============================] - 0s 53ms/step\n"
     ]
    }
   ],
   "source": [
    "img = generator.predict(np.random.randn(4,128,1))"
   ]
  },
  {
   "cell_type": "code",
   "execution_count": 107,
   "id": "ec41cb89",
   "metadata": {},
   "outputs": [
    {
     "data": {
      "text/plain": [
       "(4, 28, 28, 1)"
      ]
     },
     "execution_count": 107,
     "metadata": {},
     "output_type": "execute_result"
    }
   ],
   "source": [
    "img.shape"
   ]
  },
  {
   "cell_type": "code",
   "execution_count": 142,
   "id": "0fbd50dc",
   "metadata": {},
   "outputs": [
    {
     "name": "stdout",
     "output_type": "stream",
     "text": [
      "1/1 [==============================] - 0s 54ms/step\n"
     ]
    },
    {
     "data": {
      "image/png": "[encoded data removed]",
      "text/plain": [
       "<Figure size 2000x2000 with 4 Axes>"
      ]
     },
     "metadata": {},
     "output_type": "display_data"
    }
   ],
   "source": [
    "# Generate new fashion\n",
    "img = generator.predict(np.random.randn(4,128,1))\n",
    "# Setup the subplot formatting \n",
    "fig, ax = plt.subplots(ncols=4, figsize=(20,20))\n",
    "# Loop four times and get images \n",
    "for idx, img in enumerate(img): \n",
    "    # Plot the image using a specific subplot \n",
    "    ax[idx].imshow(np.squeeze(img))\n",
    "    # Appending the image label as the plot title \n",
    "    ax[idx].title.set_text(idx)"
   ]
  },
  {
   "cell_type": "code",
   "execution_count": 143,
   "id": "4ae012f7",
   "metadata": {},
   "outputs": [
    {
     "data": {
      "text/plain": [
       "(28, 28, 1)"
      ]
     },
     "execution_count": 143,
     "metadata": {},
     "output_type": "execute_result"
    }
   ],
   "source": [
    "img.shape"
   ]
  },
  {
   "cell_type": "code",
   "execution_count": 165,
   "id": "3f672ff5",
   "metadata": {},
   "outputs": [],
   "source": [
    "def build_discriminator(): \n",
    "    model = Sequential()\n",
    "    \n",
    "    # First Conv Block\n",
    "    model.add(Conv2D(32, 5, input_shape = (28,28,1)))\n",
    "    model.add(LeakyReLU(0.2))\n",
    "    model.add(Dropout(0.4))\n",
    "    \n",
    "    # Second Conv Block\n",
    "    model.add(Conv2D(64, 5))\n",
    "    model.add(LeakyReLU(0.2))\n",
    "    model.add(Dropout(0.4))\n",
    "    \n",
    "    # Third Conv Block\n",
    "    model.add(Conv2D(128, 5))\n",
    "    model.add(LeakyReLU(0.2))\n",
    "    model.add(Dropout(0.4))\n",
    "    \n",
    "    # Fourth Conv Block\n",
    "    model.add(Conv2D(256, 5))\n",
    "    model.add(LeakyReLU(0.2))\n",
    "    model.add(Dropout(0.4))\n",
    "    \n",
    "    # Flatten then pass to dense layer\n",
    "    model.add(Flatten())\n",
    "    model.add(Dropout(0.4))\n",
    "    model.add(Dense(1, activation='sigmoid'))\n",
    "    \n",
    "    return model"
   ]
  },
  {
   "cell_type": "code",
   "execution_count": 191,
   "id": "103dcf91",
   "metadata": {},
   "outputs": [
    {
     "data": {
      "text/plain": [
       "(4, 28, 28, 1)"
      ]
     },
     "execution_count": 191,
     "metadata": {},
     "output_type": "execute_result"
    }
   ],
   "source": [
    "img.shape"
   ]
  },
  {
   "cell_type": "code",
   "execution_count": 192,
   "id": "656f615c",
   "metadata": {},
   "outputs": [],
   "source": [
    "discriminator = build_discriminator()"
   ]
  },
  {
   "cell_type": "code",
   "execution_count": 193,
   "id": "ec1ea32e",
   "metadata": {},
   "outputs": [
    {
     "data": {
      "text/plain": [
       "(4, 28, 28, 1)"
      ]
     },
     "execution_count": 193,
     "metadata": {},
     "output_type": "execute_result"
    }
   ],
   "source": [
    "img.shape"
   ]
  },
  {
   "cell_type": "code",
   "execution_count": 194,
   "id": "b0f9a51b",
   "metadata": {},
   "outputs": [
    {
     "name": "stdout",
     "output_type": "stream",
     "text": [
      "Model: \"sequential_19\"\n",
      "_________________________________________________________________\n",
      " Layer (type)                Output Shape              Param #   \n",
      "=================================================================\n",
      " conv2d_86 (Conv2D)          (None, 24, 24, 32)        832       \n",
      "                                                                 \n",
      " leaky_re_lu_86 (LeakyReLU)  (None, 24, 24, 32)        0         \n",
      "                                                                 \n",
      " dropout_45 (Dropout)        (None, 24, 24, 32)        0         \n",
      "                                                                 \n",
      " conv2d_87 (Conv2D)          (None, 20, 20, 64)        51264     \n",
      "                                                                 \n",
      " leaky_re_lu_87 (LeakyReLU)  (None, 20, 20, 64)        0         \n",
      "                                                                 \n",
      " dropout_46 (Dropout)        (None, 20, 20, 64)        0         \n",
      "                                                                 \n",
      " conv2d_88 (Conv2D)          (None, 16, 16, 128)       204928    \n",
      "                                                                 \n",
      " leaky_re_lu_88 (LeakyReLU)  (None, 16, 16, 128)       0         \n",
      "                                                                 \n",
      " dropout_47 (Dropout)        (None, 16, 16, 128)       0         \n",
      "                                                                 \n",
      " conv2d_89 (Conv2D)          (None, 12, 12, 256)       819456    \n",
      "                                                                 \n",
      " leaky_re_lu_89 (LeakyReLU)  (None, 12, 12, 256)       0         \n",
      "                                                                 \n",
      " dropout_48 (Dropout)        (None, 12, 12, 256)       0         \n",
      "                                                                 \n",
      " flatten_9 (Flatten)         (None, 36864)             0         \n",
      "                                                                 \n",
      " dropout_49 (Dropout)        (None, 36864)             0         \n",
      "                                                                 \n",
      " dense_19 (Dense)            (None, 1)                 36865     \n",
      "                                                                 \n",
      "=================================================================\n",
      "Total params: 1113345 (4.25 MB)\n",
      "Trainable params: 1113345 (4.25 MB)\n",
      "Non-trainable params: 0 (0.00 Byte)\n",
      "_________________________________________________________________\n"
     ]
    }
   ],
   "source": [
    "discriminator.summary()"
   ]
  },
  {
   "cell_type": "code",
   "execution_count": 199,
   "id": "dc33d81e",
   "metadata": {},
   "outputs": [
    {
     "data": {
      "text/plain": [
       "(4, 28, 28, 1)"
      ]
     },
     "execution_count": 199,
     "metadata": {},
     "output_type": "execute_result"
    }
   ],
   "source": [
    "img.shape"
   ]
  },
  {
   "cell_type": "code",
   "execution_count": 201,
   "id": "aff9a5d7",
   "metadata": {},
   "outputs": [
    {
     "name": "stdout",
     "output_type": "stream",
     "text": [
      "1/1 [==============================] - 0s 34ms/step\n"
     ]
    },
    {
     "data": {
      "text/plain": [
       "array([[0.5004475],\n",
       "       [0.5003737],\n",
       "       [0.500468 ],\n",
       "       [0.5003177]], dtype=float32)"
      ]
     },
     "execution_count": 201,
     "metadata": {},
     "output_type": "execute_result"
    }
   ],
   "source": [
    "discriminator.predict(img)"
   ]
  },
  {
   "cell_type": "code",
   "execution_count": 197,
   "id": "cb8fca70",
   "metadata": {},
   "outputs": [
    {
     "name": "stdout",
     "output_type": "stream",
     "text": [
      "1/1 [==============================] - 0s 118ms/step\n"
     ]
    },
    {
     "data": {
      "text/plain": [
       "array([[0.5004475]], dtype=float32)"
      ]
     },
     "execution_count": 197,
     "metadata": {},
     "output_type": "execute_result"
    }
   ],
   "source": [
    "discriminator.predict(np.expand_dims(img,0))"
   ]
  },
  {
   "cell_type": "markdown",
   "id": "e2e004c4",
   "metadata": {},
   "source": [
    "# Construct Training Loop"
   ]
  },
  {
   "cell_type": "markdown",
   "id": "bc3f8d69",
   "metadata": {},
   "source": [
    "# Setup Losses and Optimizers"
   ]
  },
  {
   "cell_type": "code",
   "execution_count": 203,
   "id": "fa31e399",
   "metadata": {},
   "outputs": [],
   "source": [
    "# Adam is going to be the optimizer for both\n",
    "from tensorflow.keras.optimizers import Adam\n",
    "# Binary cross entropy is going to be the loss for both \n",
    "from tensorflow.keras.losses import BinaryCrossentropy"
   ]
  },
  {
   "cell_type": "code",
   "execution_count": 204,
   "id": "98d86402",
   "metadata": {},
   "outputs": [],
   "source": [
    "g_opt = Adam(learning_rate=0.0001) \n",
    "d_opt = Adam(learning_rate=0.00001) \n",
    "g_loss = BinaryCrossentropy()\n",
    "d_loss = BinaryCrossentropy()"
   ]
  },
  {
   "cell_type": "markdown",
   "id": "90f3454b",
   "metadata": {},
   "source": [
    "# Build Subclassed Model"
   ]
  },
  {
   "cell_type": "code",
   "execution_count": 205,
   "id": "e299d1f8",
   "metadata": {},
   "outputs": [],
   "source": [
    "# Importing the base model class to subclass our training step \n",
    "from tensorflow.keras.models import Model"
   ]
  },
  {
   "cell_type": "code",
   "execution_count": 210,
   "id": "e8aafde5",
   "metadata": {},
   "outputs": [
    {
     "data": {
      "text/plain": [
       "<tf.Tensor: shape=(6, 128), dtype=float32, numpy=\n",
       "array([[0., 0., 0., 0., 0., 0., 0., 0., 0., 0., 0., 0., 0., 0., 0., 0.,\n",
       "        0., 0., 0., 0., 0., 0., 0., 0., 0., 0., 0., 0., 0., 0., 0., 0.,\n",
       "        0., 0., 0., 0., 0., 0., 0., 0., 0., 0., 0., 0., 0., 0., 0., 0.,\n",
       "        0., 0., 0., 0., 0., 0., 0., 0., 0., 0., 0., 0., 0., 0., 0., 0.,\n",
       "        0., 0., 0., 0., 0., 0., 0., 0., 0., 0., 0., 0., 0., 0., 0., 0.,\n",
       "        0., 0., 0., 0., 0., 0., 0., 0., 0., 0., 0., 0., 0., 0., 0., 0.,\n",
       "        0., 0., 0., 0., 0., 0., 0., 0., 0., 0., 0., 0., 0., 0., 0., 0.,\n",
       "        0., 0., 0., 0., 0., 0., 0., 0., 0., 0., 0., 0., 0., 0., 0., 0.],\n",
       "       [0., 0., 0., 0., 0., 0., 0., 0., 0., 0., 0., 0., 0., 0., 0., 0.,\n",
       "        0., 0., 0., 0., 0., 0., 0., 0., 0., 0., 0., 0., 0., 0., 0., 0.,\n",
       "        0., 0., 0., 0., 0., 0., 0., 0., 0., 0., 0., 0., 0., 0., 0., 0.,\n",
       "        0., 0., 0., 0., 0., 0., 0., 0., 0., 0., 0., 0., 0., 0., 0., 0.,\n",
       "        0., 0., 0., 0., 0., 0., 0., 0., 0., 0., 0., 0., 0., 0., 0., 0.,\n",
       "        0., 0., 0., 0., 0., 0., 0., 0., 0., 0., 0., 0., 0., 0., 0., 0.,\n",
       "        0., 0., 0., 0., 0., 0., 0., 0., 0., 0., 0., 0., 0., 0., 0., 0.,\n",
       "        0., 0., 0., 0., 0., 0., 0., 0., 0., 0., 0., 0., 0., 0., 0., 0.],\n",
       "       [0., 0., 0., 0., 0., 0., 0., 0., 0., 0., 0., 0., 0., 0., 0., 0.,\n",
       "        0., 0., 0., 0., 0., 0., 0., 0., 0., 0., 0., 0., 0., 0., 0., 0.,\n",
       "        0., 0., 0., 0., 0., 0., 0., 0., 0., 0., 0., 0., 0., 0., 0., 0.,\n",
       "        0., 0., 0., 0., 0., 0., 0., 0., 0., 0., 0., 0., 0., 0., 0., 0.,\n",
       "        0., 0., 0., 0., 0., 0., 0., 0., 0., 0., 0., 0., 0., 0., 0., 0.,\n",
       "        0., 0., 0., 0., 0., 0., 0., 0., 0., 0., 0., 0., 0., 0., 0., 0.,\n",
       "        0., 0., 0., 0., 0., 0., 0., 0., 0., 0., 0., 0., 0., 0., 0., 0.,\n",
       "        0., 0., 0., 0., 0., 0., 0., 0., 0., 0., 0., 0., 0., 0., 0., 0.],\n",
       "       [0., 0., 0., 0., 0., 0., 0., 0., 0., 0., 0., 0., 0., 0., 0., 0.,\n",
       "        0., 0., 0., 0., 0., 0., 0., 0., 0., 0., 0., 0., 0., 0., 0., 0.,\n",
       "        0., 0., 0., 0., 0., 0., 0., 0., 0., 0., 0., 0., 0., 0., 0., 0.,\n",
       "        0., 0., 0., 0., 0., 0., 0., 0., 0., 0., 0., 0., 0., 0., 0., 0.,\n",
       "        0., 0., 0., 0., 0., 0., 0., 0., 0., 0., 0., 0., 0., 0., 0., 0.,\n",
       "        0., 0., 0., 0., 0., 0., 0., 0., 0., 0., 0., 0., 0., 0., 0., 0.,\n",
       "        0., 0., 0., 0., 0., 0., 0., 0., 0., 0., 0., 0., 0., 0., 0., 0.,\n",
       "        0., 0., 0., 0., 0., 0., 0., 0., 0., 0., 0., 0., 0., 0., 0., 0.],\n",
       "       [0., 0., 0., 0., 0., 0., 0., 0., 0., 0., 0., 0., 0., 0., 0., 0.,\n",
       "        0., 0., 0., 0., 0., 0., 0., 0., 0., 0., 0., 0., 0., 0., 0., 0.,\n",
       "        0., 0., 0., 0., 0., 0., 0., 0., 0., 0., 0., 0., 0., 0., 0., 0.,\n",
       "        0., 0., 0., 0., 0., 0., 0., 0., 0., 0., 0., 0., 0., 0., 0., 0.,\n",
       "        0., 0., 0., 0., 0., 0., 0., 0., 0., 0., 0., 0., 0., 0., 0., 0.,\n",
       "        0., 0., 0., 0., 0., 0., 0., 0., 0., 0., 0., 0., 0., 0., 0., 0.,\n",
       "        0., 0., 0., 0., 0., 0., 0., 0., 0., 0., 0., 0., 0., 0., 0., 0.,\n",
       "        0., 0., 0., 0., 0., 0., 0., 0., 0., 0., 0., 0., 0., 0., 0., 0.],\n",
       "       [0., 0., 0., 0., 0., 0., 0., 0., 0., 0., 0., 0., 0., 0., 0., 0.,\n",
       "        0., 0., 0., 0., 0., 0., 0., 0., 0., 0., 0., 0., 0., 0., 0., 0.,\n",
       "        0., 0., 0., 0., 0., 0., 0., 0., 0., 0., 0., 0., 0., 0., 0., 0.,\n",
       "        0., 0., 0., 0., 0., 0., 0., 0., 0., 0., 0., 0., 0., 0., 0., 0.,\n",
       "        0., 0., 0., 0., 0., 0., 0., 0., 0., 0., 0., 0., 0., 0., 0., 0.,\n",
       "        0., 0., 0., 0., 0., 0., 0., 0., 0., 0., 0., 0., 0., 0., 0., 0.,\n",
       "        0., 0., 0., 0., 0., 0., 0., 0., 0., 0., 0., 0., 0., 0., 0., 0.,\n",
       "        0., 0., 0., 0., 0., 0., 0., 0., 0., 0., 0., 0., 0., 0., 0., 0.]],\n",
       "      dtype=float32)>"
      ]
     },
     "execution_count": 210,
     "metadata": {},
     "output_type": "execute_result"
    }
   ],
   "source": [
    "tf.zeros_like(tf.random.normal((6,128)))"
   ]
  },
  {
   "cell_type": "code",
   "execution_count": 211,
   "id": "64bb03dc",
   "metadata": {},
   "outputs": [],
   "source": [
    "class FashionGAN(Model): \n",
    "    def __init__(self, generator, discriminator, *args, **kwargs):\n",
    "        # Pass through args and kwargs to base class \n",
    "        super().__init__(*args, **kwargs)\n",
    "        \n",
    "        # Create attributes for gen and disc\n",
    "        self.generator = generator \n",
    "        self.discriminator = discriminator \n",
    "        \n",
    "    def compile(self, g_opt, d_opt, g_loss, d_loss, *args, **kwargs): \n",
    "        # Compile with base class\n",
    "        super().compile(*args, **kwargs)\n",
    "        \n",
    "        # Create attributes for losses and optimizers\n",
    "        self.g_opt = g_opt\n",
    "        self.d_opt = d_opt\n",
    "        self.g_loss = g_loss\n",
    "        self.d_loss = d_loss \n",
    "\n",
    "    def train_step(self, batch):\n",
    "        # Get the data \n",
    "        real_images = batch\n",
    "        fake_images = self.generator(tf.random.normal((128, 128, 1)), training=False)\n",
    "        \n",
    "        # Train the discriminator\n",
    "        with tf.GradientTape() as d_tape: \n",
    "            # Pass the real and fake images to the discriminator model\n",
    "            yhat_real = self.discriminator(real_images, training=True) \n",
    "            yhat_fake = self.discriminator(fake_images, training=True)\n",
    "            yhat_realfake = tf.concat([yhat_real, yhat_fake], axis=0)\n",
    "            \n",
    "            # Create labels for real and fakes images\n",
    "            y_realfake = tf.concat([tf.zeros_like(yhat_real), tf.ones_like(yhat_fake)], axis=0)\n",
    "            \n",
    "            # Add some noise to the TRUE outputs\n",
    "            noise_real = 0.15*tf.random.uniform(tf.shape(yhat_real))\n",
    "            noise_fake = -0.15*tf.random.uniform(tf.shape(yhat_fake))\n",
    "            y_realfake += tf.concat([noise_real, noise_fake], axis=0)\n",
    "            \n",
    "            # Calculate loss - BINARYCROSS \n",
    "            total_d_loss = self.d_loss(y_realfake, yhat_realfake)\n",
    "            \n",
    "        # Apply backpropagation - nn learn \n",
    "        dgrad = d_tape.gradient(total_d_loss, self.discriminator.trainable_variables) \n",
    "        self.d_opt.apply_gradients(zip(dgrad, self.discriminator.trainable_variables))\n",
    "        \n",
    "        # Train the generator \n",
    "        with tf.GradientTape() as g_tape: \n",
    "            # Generate some new images\n",
    "            gen_images = self.generator(tf.random.normal((128,128,1)), training=True)\n",
    "                                        \n",
    "            # Create the predicted labels\n",
    "            predicted_labels = self.discriminator(gen_images, training=False)\n",
    "                                        \n",
    "            # Calculate loss - trick to training to fake out the discriminator\n",
    "            total_g_loss = self.g_loss(tf.zeros_like(predicted_labels), predicted_labels) \n",
    "            \n",
    "        # Apply backprop\n",
    "        ggrad = g_tape.gradient(total_g_loss, self.generator.trainable_variables)\n",
    "        self.g_opt.apply_gradients(zip(ggrad, self.generator.trainable_variables))\n",
    "        \n",
    "        return {\"d_loss\":total_d_loss, \"g_loss\":total_g_loss}"
   ]
  },
  {
   "cell_type": "code",
   "execution_count": 212,
   "id": "a4d18878",
   "metadata": {},
   "outputs": [],
   "source": [
    "# Create instance of subclassed model\n",
    "fashgan = FashionGAN(generator, discriminator)"
   ]
  },
  {
   "cell_type": "code",
   "execution_count": 213,
   "id": "278064ec",
   "metadata": {},
   "outputs": [
    {
     "name": "stdout",
     "output_type": "stream",
     "text": [
      "WARNING:tensorflow:From C:\\ML\\Anaconda3\\Lib\\site-packages\\keras\\src\\optimizers\\__init__.py:309: The name tf.train.Optimizer is deprecated. Please use tf.compat.v1.train.Optimizer instead.\n",
      "\n"
     ]
    },
    {
     "name": "stderr",
     "output_type": "stream",
     "text": [
      "WARNING:tensorflow:From C:\\ML\\Anaconda3\\Lib\\site-packages\\keras\\src\\optimizers\\__init__.py:309: The name tf.train.Optimizer is deprecated. Please use tf.compat.v1.train.Optimizer instead.\n",
      "\n"
     ]
    }
   ],
   "source": [
    "# Compile the model\n",
    "fashgan.compile(g_opt, d_opt, g_loss, d_loss)"
   ]
  },
  {
   "cell_type": "markdown",
   "id": "46633d38",
   "metadata": {},
   "source": [
    "# Build call back"
   ]
  },
  {
   "cell_type": "code",
   "execution_count": 214,
   "id": "08ad7674",
   "metadata": {},
   "outputs": [],
   "source": [
    "import os\n",
    "from tensorflow.keras.preprocessing.image import array_to_img\n",
    "from tensorflow.keras.callbacks import Callback"
   ]
  },
  {
   "cell_type": "code",
   "execution_count": 218,
   "id": "de7946b6",
   "metadata": {},
   "outputs": [],
   "source": [
    "class ModelMonitor(Callback):\n",
    "    def __init__(self, num_img=3, latent_dim=128):\n",
    "        self.num_img = num_img\n",
    "        self.latent_dim = latent_dim\n",
    "\n",
    "    def on_epoch_end(self, epoch, logs=None):\n",
    "        random_latent_vectors = tf.random.uniform((self.num_img, self.latent_dim,1))\n",
    "        generated_images = self.model.generator(random_latent_vectors)\n",
    "        generated_images *= 255\n",
    "        generated_images.numpy()\n",
    "        for i in range(self.num_img):\n",
    "            img = array_to_img(generated_images[i])\n",
    "            img.save(os.path.join('images', f'generated_img_{epoch}_{i}.png'))"
   ]
  },
  {
   "cell_type": "markdown",
   "id": "2191cefc",
   "metadata": {},
   "source": [
    "# Train"
   ]
  },
  {
   "cell_type": "code",
   "execution_count": 219,
   "id": "aebf276e",
   "metadata": {},
   "outputs": [
    {
     "data": {
      "text/plain": [
       "(128, 28, 28, 1)"
      ]
     },
     "execution_count": 219,
     "metadata": {},
     "output_type": "execute_result"
    }
   ],
   "source": [
    "ds.as_numpy_iterator().next().shape"
   ]
  },
  {
   "cell_type": "code",
   "execution_count": 222,
   "id": "ffbf30f5",
   "metadata": {},
   "outputs": [
    {
     "name": "stdout",
     "output_type": "stream",
     "text": [
      "Number of CPU cores (using os module): 8\n"
     ]
    }
   ],
   "source": [
    "import os\n",
    "import multiprocessing\n",
    "\n",
    "# Method 1: Using the os module\n",
    "num_cores_os = os.cpu_count()\n",
    "print(f\"Number of CPU cores (using os module): {num_cores_os}\")"
   ]
  },
  {
   "cell_type": "code",
   "execution_count": null,
   "id": "cc184307",
   "metadata": {},
   "outputs": [],
   "source": [
    "num_cores_multiprocessing = multiprocessing.cpu_count()\n",
    "print(f\"Number of CPU cores (using multiprocessing module): {num_cores_multiprocessing}\")"
   ]
  },
  {
   "cell_type": "code",
   "execution_count": 228,
   "id": "4e339ea9",
   "metadata": {},
   "outputs": [
    {
     "name": "stdout",
     "output_type": "stream",
     "text": [
      "Epoch 1/5\n",
      "469/469 [==============================] - 2855s 6s/step - d_loss: 0.2773 - g_loss: 2.5987\n",
      "Epoch 2/5\n",
      "469/469 [==============================] - 2858s 6s/step - d_loss: 0.6149 - g_loss: 1.1193\n",
      "Epoch 3/5\n",
      "469/469 [==============================] - 3108s 7s/step - d_loss: 0.6902 - g_loss: 0.6295\n",
      "Epoch 4/5\n",
      "469/469 [==============================] - 3372s 7s/step - d_loss: 0.6471 - g_loss: 0.6134\n",
      "Epoch 5/5\n",
      "469/469 [==============================] - 3218s 7s/step - d_loss: 0.4410 - g_loss: 0.1152\n"
     ]
    }
   ],
   "source": [
    "\n",
    "hist = fashgan.fit(ds, epochs=5, callbacks=[ModelMonitor()])\n"
   ]
  },
  {
   "cell_type": "markdown",
   "id": "72aa4281",
   "metadata": {},
   "source": [
    "# Review Performance"
   ]
  },
  {
   "cell_type": "code",
   "execution_count": 231,
   "id": "def13a4e",
   "metadata": {},
   "outputs": [
    {
     "data": {
      "image/png": "[encoded data removed]",
      "text/plain": [
       "<Figure size 640x480 with 1 Axes>"
      ]
     },
     "metadata": {},
     "output_type": "display_data"
    }
   ],
   "source": [
    "plt.suptitle('Loss')\n",
    "plt.plot(hist.history['d_loss'], label='d_loss')\n",
    "plt.plot(hist.history['g_loss'], label='g_loss')\n",
    "plt.legend()\n",
    "plt.show()"
   ]
  },
  {
   "cell_type": "markdown",
   "id": "09a392ae",
   "metadata": {},
   "source": [
    "# Testing out generator"
   ]
  },
  {
   "cell_type": "code",
   "execution_count": 235,
   "id": "e0f1abe5",
   "metadata": {},
   "outputs": [
    {
     "name": "stdout",
     "output_type": "stream",
     "text": [
      "1/1 [==============================] - 5s 5s/step\n"
     ]
    },
    {
     "data": {
      "text/plain": [
       "array([[[[5.21485284e-02],\n",
       "         [2.19013214e-01],\n",
       "         [1.55486614e-01],\n",
       "         ...,\n",
       "         [3.38951600e-06],\n",
       "         [9.99993145e-01],\n",
       "         [1.00000000e+00]],\n",
       "\n",
       "        [[1.05752047e-08],\n",
       "         [1.80154007e-08],\n",
       "         [1.01155728e-09],\n",
       "         ...,\n",
       "         [1.95712759e-03],\n",
       "         [1.00000000e+00],\n",
       "         [1.00000000e+00]],\n",
       "\n",
       "        [[3.00612109e-23],\n",
       "         [8.64338007e-26],\n",
       "         [1.21671395e-26],\n",
       "         ...,\n",
       "         [2.10624235e-03],\n",
       "         [1.00000000e+00],\n",
       "         [1.00000000e+00]],\n",
       "\n",
       "        ...,\n",
       "\n",
       "        [[1.00000000e+00],\n",
       "         [1.00000000e+00],\n",
       "         [9.99491155e-01],\n",
       "         ...,\n",
       "         [7.44938180e-02],\n",
       "         [8.62550078e-05],\n",
       "         [1.62139942e-04]],\n",
       "\n",
       "        [[1.00000000e+00],\n",
       "         [1.00000000e+00],\n",
       "         [9.98272896e-01],\n",
       "         ...,\n",
       "         [3.62005942e-02],\n",
       "         [2.34418013e-03],\n",
       "         [5.94371092e-03]],\n",
       "\n",
       "        [[9.99995887e-01],\n",
       "         [9.99985039e-01],\n",
       "         [9.80668604e-01],\n",
       "         ...,\n",
       "         [6.63359836e-02],\n",
       "         [3.57295088e-02],\n",
       "         [7.40735754e-02]]],\n",
       "\n",
       "\n",
       "       [[[4.74746227e-01],\n",
       "         [9.99150336e-01],\n",
       "         [1.00000000e+00],\n",
       "         ...,\n",
       "         [2.65640629e-08],\n",
       "         [1.89459790e-02],\n",
       "         [9.64248121e-01]],\n",
       "\n",
       "        [[1.00000000e+00],\n",
       "         [1.00000000e+00],\n",
       "         [1.00000000e+00],\n",
       "         ...,\n",
       "         [2.44225343e-12],\n",
       "         [9.64341685e-02],\n",
       "         [9.99845922e-01]],\n",
       "\n",
       "        [[1.00000000e+00],\n",
       "         [9.99999821e-01],\n",
       "         [1.00000000e+00],\n",
       "         ...,\n",
       "         [8.87888734e-14],\n",
       "         [8.93179834e-01],\n",
       "         [9.99999702e-01]],\n",
       "\n",
       "        ...,\n",
       "\n",
       "        [[1.00000000e+00],\n",
       "         [1.00000000e+00],\n",
       "         [1.00000000e+00],\n",
       "         ...,\n",
       "         [2.56224745e-03],\n",
       "         [1.21369306e-03],\n",
       "         [1.72784422e-02]],\n",
       "\n",
       "        [[1.00000000e+00],\n",
       "         [1.00000000e+00],\n",
       "         [9.99999642e-01],\n",
       "         ...,\n",
       "         [3.89936119e-02],\n",
       "         [2.57226210e-02],\n",
       "         [9.32921469e-02]],\n",
       "\n",
       "        [[1.00000000e+00],\n",
       "         [9.99999940e-01],\n",
       "         [9.99226511e-01],\n",
       "         ...,\n",
       "         [1.59010082e-01],\n",
       "         [1.45465881e-01],\n",
       "         [2.44852141e-01]]],\n",
       "\n",
       "\n",
       "       [[[5.74346232e-05],\n",
       "         [1.06374073e-05],\n",
       "         [1.48203867e-06],\n",
       "         ...,\n",
       "         [9.60692205e-07],\n",
       "         [9.94225800e-01],\n",
       "         [9.99991417e-01]],\n",
       "\n",
       "        [[2.10240074e-08],\n",
       "         [3.14865600e-09],\n",
       "         [1.58934332e-09],\n",
       "         ...,\n",
       "         [4.88818671e-07],\n",
       "         [9.99985278e-01],\n",
       "         [1.00000000e+00]],\n",
       "\n",
       "        [[2.44718200e-12],\n",
       "         [1.43733414e-13],\n",
       "         [2.06072765e-14],\n",
       "         ...,\n",
       "         [9.55755013e-08],\n",
       "         [9.99999642e-01],\n",
       "         [1.00000000e+00]],\n",
       "\n",
       "        ...,\n",
       "\n",
       "        [[1.00000000e+00],\n",
       "         [1.00000000e+00],\n",
       "         [1.00000000e+00],\n",
       "         ...,\n",
       "         [9.46462997e-09],\n",
       "         [2.45596016e-06],\n",
       "         [2.10680235e-02]],\n",
       "\n",
       "        [[1.00000000e+00],\n",
       "         [1.00000000e+00],\n",
       "         [9.99998927e-01],\n",
       "         ...,\n",
       "         [1.16173987e-05],\n",
       "         [5.90607990e-04],\n",
       "         [9.40791443e-02]],\n",
       "\n",
       "        [[1.00000000e+00],\n",
       "         [9.99999821e-01],\n",
       "         [9.99261975e-01],\n",
       "         ...,\n",
       "         [6.28870772e-03],\n",
       "         [4.45227958e-02],\n",
       "         [2.75170684e-01]]],\n",
       "\n",
       "\n",
       "       ...,\n",
       "\n",
       "\n",
       "       [[[9.57941830e-01],\n",
       "         [2.22234190e-01],\n",
       "         [5.82023859e-02],\n",
       "         ...,\n",
       "         [4.18401641e-13],\n",
       "         [9.19273674e-01],\n",
       "         [9.99999821e-01]],\n",
       "\n",
       "        [[6.09216809e-01],\n",
       "         [8.82851600e-04],\n",
       "         [2.49751406e-06],\n",
       "         ...,\n",
       "         [9.03015591e-14],\n",
       "         [9.99992132e-01],\n",
       "         [1.00000000e+00]],\n",
       "\n",
       "        [[6.13003914e-09],\n",
       "         [1.35498071e-15],\n",
       "         [4.35284572e-21],\n",
       "         ...,\n",
       "         [8.70861543e-14],\n",
       "         [1.00000000e+00],\n",
       "         [1.00000000e+00]],\n",
       "\n",
       "        ...,\n",
       "\n",
       "        [[1.00000000e+00],\n",
       "         [1.00000000e+00],\n",
       "         [1.00000000e+00],\n",
       "         ...,\n",
       "         [2.04021099e-14],\n",
       "         [7.22201726e-12],\n",
       "         [3.29635877e-05]],\n",
       "\n",
       "        [[1.00000000e+00],\n",
       "         [1.00000000e+00],\n",
       "         [1.00000000e+00],\n",
       "         ...,\n",
       "         [7.09973136e-10],\n",
       "         [3.11827932e-07],\n",
       "         [6.15895540e-03]],\n",
       "\n",
       "        [[1.00000000e+00],\n",
       "         [1.00000000e+00],\n",
       "         [1.00000000e+00],\n",
       "         ...,\n",
       "         [8.13717561e-05],\n",
       "         [2.62647006e-03],\n",
       "         [1.55421838e-01]]],\n",
       "\n",
       "\n",
       "       [[[4.25518796e-38],\n",
       "         [0.00000000e+00],\n",
       "         [0.00000000e+00],\n",
       "         ...,\n",
       "         [9.91647124e-01],\n",
       "         [1.00000000e+00],\n",
       "         [1.00000000e+00]],\n",
       "\n",
       "        [[3.92045963e-34],\n",
       "         [0.00000000e+00],\n",
       "         [0.00000000e+00],\n",
       "         ...,\n",
       "         [1.00000000e+00],\n",
       "         [1.00000000e+00],\n",
       "         [1.00000000e+00]],\n",
       "\n",
       "        [[6.52480869e-35],\n",
       "         [0.00000000e+00],\n",
       "         [0.00000000e+00],\n",
       "         ...,\n",
       "         [1.00000000e+00],\n",
       "         [1.00000000e+00],\n",
       "         [1.00000000e+00]],\n",
       "\n",
       "        ...,\n",
       "\n",
       "        [[1.00000000e+00],\n",
       "         [1.00000000e+00],\n",
       "         [1.00000000e+00],\n",
       "         ...,\n",
       "         [6.59171128e-05],\n",
       "         [5.88394244e-07],\n",
       "         [5.90421041e-05]],\n",
       "\n",
       "        [[1.00000000e+00],\n",
       "         [1.00000000e+00],\n",
       "         [1.00000000e+00],\n",
       "         ...,\n",
       "         [8.43535236e-04],\n",
       "         [2.60055502e-04],\n",
       "         [5.34532685e-03]],\n",
       "\n",
       "        [[1.00000000e+00],\n",
       "         [1.00000000e+00],\n",
       "         [9.99990702e-01],\n",
       "         ...,\n",
       "         [2.85273101e-02],\n",
       "         [2.60179304e-02],\n",
       "         [1.04495391e-01]]],\n",
       "\n",
       "\n",
       "       [[[1.55790667e-17],\n",
       "         [5.22686082e-18],\n",
       "         [5.75804739e-16],\n",
       "         ...,\n",
       "         [2.32297734e-05],\n",
       "         [1.03314745e-03],\n",
       "         [4.19827819e-01]],\n",
       "\n",
       "        [[1.29269490e-30],\n",
       "         [1.74831716e-32],\n",
       "         [9.15071759e-31],\n",
       "         ...,\n",
       "         [5.73221526e-10],\n",
       "         [3.10789619e-06],\n",
       "         [3.25653166e-01]],\n",
       "\n",
       "        [[0.00000000e+00],\n",
       "         [0.00000000e+00],\n",
       "         [0.00000000e+00],\n",
       "         ...,\n",
       "         [2.86590494e-13],\n",
       "         [6.25181684e-08],\n",
       "         [3.89734864e-01]],\n",
       "\n",
       "        ...,\n",
       "\n",
       "        [[1.00000000e+00],\n",
       "         [1.00000000e+00],\n",
       "         [1.00000000e+00],\n",
       "         ...,\n",
       "         [1.03147926e-12],\n",
       "         [8.91029686e-07],\n",
       "         [6.12575054e-01]],\n",
       "\n",
       "        [[1.00000000e+00],\n",
       "         [1.00000000e+00],\n",
       "         [9.99999821e-01],\n",
       "         ...,\n",
       "         [7.33944248e-08],\n",
       "         [2.49859731e-04],\n",
       "         [4.03786063e-01]],\n",
       "\n",
       "        [[9.99004602e-01],\n",
       "         [9.96714413e-01],\n",
       "         [9.45728838e-01],\n",
       "         ...,\n",
       "         [3.93060129e-03],\n",
       "         [7.80967548e-02],\n",
       "         [4.98767048e-01]]]], dtype=float32)"
      ]
     },
     "execution_count": 235,
     "metadata": {},
     "output_type": "execute_result"
    }
   ],
   "source": [
    "imgs = generator.predict(tf.random.normal((16, 128, 1)))\n",
    "imgs"
   ]
  },
  {
   "cell_type": "code",
   "execution_count": 236,
   "id": "6c045af6",
   "metadata": {},
   "outputs": [
    {
     "data": {
      "image/png": "[encoded data removed]",
      "text/plain": [
       "<Figure size 1000x1000 with 16 Axes>"
      ]
     },
     "metadata": {},
     "output_type": "display_data"
    }
   ],
   "source": [
    "fig, ax = plt.subplots(ncols=4, nrows=4, figsize=(10,10))\n",
    "for r in range(4): \n",
    "    for c in range(4): \n",
    "        ax[r][c].imshow(imgs[(r+1)*(c+1)-1])"
   ]
  },
  {
   "cell_type": "code",
   "execution_count": 237,
   "id": "e61f3cbe",
   "metadata": {},
   "outputs": [
    {
     "name": "stdout",
     "output_type": "stream",
     "text": [
      "WARNING:tensorflow:Compiled the loaded model, but the compiled metrics have yet to be built. `model.compile_metrics` will be empty until you train or evaluate the model.\n"
     ]
    },
    {
     "name": "stderr",
     "output_type": "stream",
     "text": [
      "C:\\ML\\Anaconda3\\Lib\\site-packages\\keras\\src\\engine\\training.py:3103: UserWarning: You are saving your model as an HDF5 file via `model.save()`. This file format is considered legacy. We recommend using instead the native Keras format, e.g. `model.save('my_model.keras')`.\n",
      "  saving_api.save_model(\n",
      "WARNING:tensorflow:Compiled the loaded model, but the compiled metrics have yet to be built. `model.compile_metrics` will be empty until you train or evaluate the model.\n"
     ]
    },
    {
     "name": "stdout",
     "output_type": "stream",
     "text": [
      "WARNING:tensorflow:Compiled the loaded model, but the compiled metrics have yet to be built. `model.compile_metrics` will be empty until you train or evaluate the model.\n"
     ]
    },
    {
     "name": "stderr",
     "output_type": "stream",
     "text": [
      "WARNING:tensorflow:Compiled the loaded model, but the compiled metrics have yet to be built. `model.compile_metrics` will be empty until you train or evaluate the model.\n"
     ]
    }
   ],
   "source": [
    "generator.save('generator.h5')\n",
    "discriminator.save('discriminator.h5')"
   ]
  },
  {
   "cell_type": "code",
   "execution_count": null,
   "id": "c3319fbb",
   "metadata": {},
   "outputs": [],
   "source": []
  }
 ],
 "metadata": {
  "kernelspec": {
   "display_name": "Python 3 (ipykernel)",
   "language": "python",
   "name": "python3"
  },
  "language_info": {
   "codemirror_mode": {
    "name": "ipython",
    "version": 3
   },
   "file_extension": ".py",
   "mimetype": "text/x-python",
   "name": "python",
   "nbconvert_exporter": "python",
   "pygments_lexer": "ipython3",
   "version": "3.11.4"
  }
 },
 "nbformat": 4,
 "nbformat_minor": 5
}
